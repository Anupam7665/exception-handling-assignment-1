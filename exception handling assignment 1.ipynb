{
 "cells": [
  {
   "cell_type": "markdown",
   "id": "17c52379-000f-4141-9e1e-adb59c57b4d7",
   "metadata": {
    "tags": []
   },
   "source": [
    "### Q1. What is the Exception in python?Write the difference between Exception and syntax errror"
   ]
  },
  {
   "cell_type": "markdown",
   "id": "4f466837-4318-49b4-97f7-224be1c90810",
   "metadata": {},
   "source": [
    " An exception in python that represent an error  occur during the execution of the program\n",
    " \n",
    " \n",
    " The difference between Exception and syntax errror is that the syntax error occur when the code logic is right but the syntax putting in that code is missing or syntax written on that code is incorrect while exception error shows the exactly what error are occured like type error, zero division error etc."
   ]
  },
  {
   "cell_type": "markdown",
   "id": "b4bda356-1a4d-4ac9-80a8-f1bff5d3fdef",
   "metadata": {},
   "source": [
    "### Q2 What happen when an exception is not handled? Explain with an example"
   ]
  },
  {
   "cell_type": "markdown",
   "id": "f023382e-c7ed-4da2-aa5c-d50148647bad",
   "metadata": {},
   "source": [
    "when exception is not handled the program shows an error and exit from that program"
   ]
  },
  {
   "cell_type": "code",
   "execution_count": 2,
   "id": "87189574-b1c7-40bd-9b09-ac8fcaa6cb58",
   "metadata": {},
   "outputs": [
    {
     "ename": "ZeroDivisionError",
     "evalue": "division by zero",
     "output_type": "error",
     "traceback": [
      "\u001b[0;31m---------------------------------------------------------------------------\u001b[0m",
      "\u001b[0;31mZeroDivisionError\u001b[0m                         Traceback (most recent call last)",
      "Cell \u001b[0;32mIn[2], line 1\u001b[0m\n\u001b[0;32m----> 1\u001b[0m \u001b[38;5;241;43m3\u001b[39;49m\u001b[38;5;241;43m/\u001b[39;49m\u001b[38;5;241;43m0\u001b[39;49m\n\u001b[1;32m      2\u001b[0m \u001b[38;5;66;03m# occur the ZeroDivisionError\u001b[39;00m\n",
      "\u001b[0;31mZeroDivisionError\u001b[0m: division by zero"
     ]
    }
   ],
   "source": [
    "3/0\n",
    "# occur the ZeroDivisionError"
   ]
  },
  {
   "cell_type": "markdown",
   "id": "ef39d4a2-f955-46dd-90b7-86dd8b1a2023",
   "metadata": {},
   "source": [
    "### Which python statement are used to catch and handle exception? Explain with an example"
   ]
  },
  {
   "cell_type": "markdown",
   "id": "2751a3f2-4db4-49f1-9d0f-217e98a5e81c",
   "metadata": {},
   "source": [
    "try and except statement are used to catch and handle exception"
   ]
  },
  {
   "cell_type": "code",
   "execution_count": 29,
   "id": "50451e6e-48c7-43f4-8912-6c1f7b2c9645",
   "metadata": {},
   "outputs": [
    {
     "name": "stdout",
     "output_type": "stream",
     "text": [
      "a is not defined\n"
     ]
    }
   ],
   "source": [
    "try:\n",
    "    pw=4+a\n",
    "except:\n",
    "    print (\"a is not defined\")  \n",
    "    \n",
    "    \n",
    "    "
   ]
  },
  {
   "cell_type": "markdown",
   "id": "71ee4ee8-2f4d-4a73-b1c2-96d1c97d5e15",
   "metadata": {},
   "source": [
    "### Q4 Explain with an example\n",
    "\n",
    "### a.try and else\n",
    "### b.finally\n",
    "### c.raise"
   ]
  },
  {
   "cell_type": "code",
   "execution_count": 49,
   "id": "a22ac241-a7f4-4a32-a939-f1a52415c490",
   "metadata": {},
   "outputs": [
    {
     "name": "stdout",
     "output_type": "stream",
     "text": [
      "this is the example of try and else\n"
     ]
    }
   ],
   "source": [
    "# try and else\n",
    "try:\n",
    "    p=2*3   \n",
    "except:\n",
    "    raise (\"a is not defined\")\n",
    "else:\n",
    "    print(\"this is the example of try and else\")\n",
    "    "
   ]
  },
  {
   "cell_type": "code",
   "execution_count": 54,
   "id": "00d01cac-4640-4d4a-990e-1d54c9f1dfde",
   "metadata": {},
   "outputs": [
    {
     "name": "stdout",
     "output_type": "stream",
     "text": [
      "it is the example of finally\n"
     ]
    },
    {
     "name": "stderr",
     "output_type": "stream",
     "text": [
      "<>:6: SyntaxWarning: 'int' object is not callable; perhaps you missed a comma?\n",
      "<>:6: SyntaxWarning: 'int' object is not callable; perhaps you missed a comma?\n",
      "/tmp/ipykernel_110/2366949058.py:6: SyntaxWarning: 'int' object is not callable; perhaps you missed a comma?\n",
      "  a=2*2(4+4)\n",
      "/tmp/ipykernel_110/2366949058.py:6: SyntaxWarning: 'int' object is not callable; perhaps you missed a comma?\n",
      "  a=2*2(4+4)\n",
      "/tmp/ipykernel_110/2366949058.py:6: SyntaxWarning: 'int' object is not callable; perhaps you missed a comma?\n",
      "  a=2*2(4+4)\n",
      "/tmp/ipykernel_110/2366949058.py:6: SyntaxWarning: 'int' object is not callable; perhaps you missed a comma?\n",
      "  a=2*2(4+4)\n",
      "/tmp/ipykernel_110/2366949058.py:6: SyntaxWarning: 'int' object is not callable; perhaps you missed a comma?\n",
      "  a=2*2(4+4)\n"
     ]
    },
    {
     "ename": "TypeError",
     "evalue": "'int' object is not callable",
     "output_type": "error",
     "traceback": [
      "\u001b[0;31m---------------------------------------------------------------------------\u001b[0m",
      "\u001b[0;31mNameError\u001b[0m                                 Traceback (most recent call last)",
      "Cell \u001b[0;32mIn[54], line 4\u001b[0m\n\u001b[1;32m      3\u001b[0m \u001b[38;5;28;01mtry\u001b[39;00m:\n\u001b[0;32m----> 4\u001b[0m     f\u001b[38;5;241m=\u001b[39m\u001b[38;5;28mopen\u001b[39m(\u001b[38;5;124m\"\u001b[39m\u001b[38;5;124mtest1.txt\u001b[39m\u001b[38;5;124m\"\u001b[39m,\u001b[43mr\u001b[49m)\n\u001b[1;32m      5\u001b[0m \u001b[38;5;28;01mexcept\u001b[39;00m \u001b[38;5;167;01mException\u001b[39;00m \u001b[38;5;28;01mas\u001b[39;00m e:\n",
      "\u001b[0;31mNameError\u001b[0m: name 'r' is not defined",
      "\nDuring handling of the above exception, another exception occurred:\n",
      "\u001b[0;31mTypeError\u001b[0m                                 Traceback (most recent call last)",
      "Cell \u001b[0;32mIn[54], line 6\u001b[0m\n\u001b[1;32m      4\u001b[0m     f\u001b[38;5;241m=\u001b[39m\u001b[38;5;28mopen\u001b[39m(\u001b[38;5;124m\"\u001b[39m\u001b[38;5;124mtest1.txt\u001b[39m\u001b[38;5;124m\"\u001b[39m,r)\n\u001b[1;32m      5\u001b[0m \u001b[38;5;28;01mexcept\u001b[39;00m \u001b[38;5;167;01mException\u001b[39;00m \u001b[38;5;28;01mas\u001b[39;00m e:\n\u001b[0;32m----> 6\u001b[0m     a\u001b[38;5;241m=\u001b[39m\u001b[38;5;241m2\u001b[39m\u001b[38;5;241m*\u001b[39m\u001b[38;5;241;43m2\u001b[39;49m\u001b[43m(\u001b[49m\u001b[38;5;241;43m4\u001b[39;49m\u001b[38;5;241;43m+\u001b[39;49m\u001b[38;5;241;43m4\u001b[39;49m\u001b[43m)\u001b[49m    \n\u001b[1;32m      7\u001b[0m \u001b[38;5;28;01mfinally\u001b[39;00m:\n\u001b[1;32m      8\u001b[0m     \u001b[38;5;28mprint\u001b[39m(\u001b[38;5;124m\"\u001b[39m\u001b[38;5;124mit is the example of finally\u001b[39m\u001b[38;5;124m\"\u001b[39m)\n",
      "\u001b[0;31mTypeError\u001b[0m: 'int' object is not callable"
     ]
    }
   ],
   "source": [
    "# finally\n",
    "try:\n",
    "    f=open(\"test1.txt\",r)\n",
    "except Exception as e:\n",
    "    a=2*2(4+4)    \n",
    "finally:\n",
    "    print(\"it is the example of finally\")"
   ]
  },
  {
   "cell_type": "code",
   "execution_count": 5,
   "id": "54cffbb1-d439-40aa-95d3-20ffe95db955",
   "metadata": {},
   "outputs": [
    {
     "name": "stdin",
     "output_type": "stream",
     "text": [
      "enter the number:  0\n"
     ]
    },
    {
     "ename": "ZeroDivisionError",
     "evalue": "enter the number less than or more  than zero",
     "output_type": "error",
     "traceback": [
      "\u001b[0;31m---------------------------------------------------------------------------\u001b[0m",
      "\u001b[0;31mZeroDivisionError\u001b[0m                         Traceback (most recent call last)",
      "Cell \u001b[0;32mIn[5], line 4\u001b[0m\n\u001b[1;32m      2\u001b[0m num\u001b[38;5;241m=\u001b[39m\u001b[38;5;28mint\u001b[39m(\u001b[38;5;28minput\u001b[39m(\u001b[38;5;124m\"\u001b[39m\u001b[38;5;124menter the number: \u001b[39m\u001b[38;5;124m\"\u001b[39m))\n\u001b[1;32m      3\u001b[0m \u001b[38;5;28;01mif\u001b[39;00m num\u001b[38;5;241m==\u001b[39m\u001b[38;5;241m0\u001b[39m:\n\u001b[0;32m----> 4\u001b[0m     \u001b[38;5;28;01mraise\u001b[39;00m \u001b[38;5;167;01mZeroDivisionError\u001b[39;00m(\u001b[38;5;124m\"\u001b[39m\u001b[38;5;124menter the number less than or more  than zero\u001b[39m\u001b[38;5;124m\"\u001b[39m)\n\u001b[1;32m      5\u001b[0m \u001b[38;5;28;01melse\u001b[39;00m:\n\u001b[1;32m      6\u001b[0m     \u001b[38;5;28mprint\u001b[39m(\u001b[38;5;241m100\u001b[39m\u001b[38;5;241m/\u001b[39m\u001b[38;5;241m0\u001b[39m)\n",
      "\u001b[0;31mZeroDivisionError\u001b[0m: enter the number less than or more  than zero"
     ]
    }
   ],
   "source": [
    "# raise\n",
    "num=int(input(\"enter the number: \"))\n",
    "if num==0:\n",
    "    raise ZeroDivisionError(\"enter the number less than or more  than zero\")\n",
    "else:\n",
    "    print(100/0)\n"
   ]
  },
  {
   "cell_type": "markdown",
   "id": "3b40a3c2-d516-4c9f-9644-105c7b18f2ae",
   "metadata": {},
   "source": [
    "### Q5 What are the custom exception class.? Why do we need Custom exception?Explain with an example"
   ]
  },
  {
   "cell_type": "markdown",
   "id": "dda19c56-60b1-4ed8-9944-f2b3718e288f",
   "metadata": {},
   "source": [
    "Custom exception occured during the specific error in the program.\n",
    "\n",
    "We need the custom exception because we create a own error that matches with the code logic and its provide the meaningful error\n",
    "\n",
    "\n",
    "Example: Raising a custom exception for low account balance"
   ]
  },
  {
   "cell_type": "markdown",
   "id": "7e64f4ca-a087-4387-ac04-d887260b0bae",
   "metadata": {},
   "source": [
    "### Q6 Create a custom exception class. Use this to handle an exception"
   ]
  },
  {
   "cell_type": "code",
   "execution_count": 19,
   "id": "a5db1b4c-fa25-418f-a50c-f90f6407c7db",
   "metadata": {},
   "outputs": [],
   "source": [
    "class InsufficientBalanceError(Exception):\n",
    "    def __init__(self, *args:object):\n",
    "        super().__init__(*args)"
   ]
  },
  {
   "cell_type": "code",
   "execution_count": 27,
   "id": "68e16c93-a1d2-4fb8-8991-d0c56d061c53",
   "metadata": {},
   "outputs": [],
   "source": [
    "class Account:\n",
    "    def __init__(self,balance):\n",
    "        self.balance=balance\n",
    "        \n",
    "    def withdraw(self,amount):\n",
    "        if self.balance < amount:\n",
    "            raise InsufficientBalanceError(\"Insufficient Balance in your account\")\n",
    "        self.balance = self.balance-amount\n",
    "        print(\"Withdraw:\",amount)\n",
    "        print(\"Remaining balance:\",self.balance)"
   ]
  },
  {
   "cell_type": "code",
   "execution_count": 28,
   "id": "64a51ef4-1f2b-4bef-8c75-151965593da8",
   "metadata": {},
   "outputs": [
    {
     "name": "stdout",
     "output_type": "stream",
     "text": [
      "Insufficient Balance in your account\n",
      "Withdraw: 50\n",
      "Remaining balance: 50\n"
     ]
    }
   ],
   "source": [
    "a=Account(100)\n",
    "try:\n",
    "    a.withdraw(200)\n",
    "except InsufficientBalanceError as e:\n",
    "    print(e)\n",
    "finally:\n",
    "    a.withdraw(50)"
   ]
  },
  {
   "cell_type": "code",
   "execution_count": null,
   "id": "6b5b5e45-1dc9-48c5-bc42-f9b3c602af6b",
   "metadata": {},
   "outputs": [],
   "source": []
  }
 ],
 "metadata": {
  "kernelspec": {
   "display_name": "Python 3 (ipykernel)",
   "language": "python",
   "name": "python3"
  },
  "language_info": {
   "codemirror_mode": {
    "name": "ipython",
    "version": 3
   },
   "file_extension": ".py",
   "mimetype": "text/x-python",
   "name": "python",
   "nbconvert_exporter": "python",
   "pygments_lexer": "ipython3",
   "version": "3.10.8"
  }
 },
 "nbformat": 4,
 "nbformat_minor": 5
}
